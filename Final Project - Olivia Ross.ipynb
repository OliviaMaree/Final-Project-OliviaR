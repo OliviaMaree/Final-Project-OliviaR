{
 "cells": [
  {
   "cell_type": "markdown",
   "metadata": {},
   "source": [
    "# Final Project"
   ]
  },
  {
   "cell_type": "markdown",
   "metadata": {},
   "source": [
    "## Proposal"
   ]
  },
  {
   "cell_type": "markdown",
   "metadata": {},
   "source": [
    "#### The project proposes to generate predictions for the severity of Sydney traffic at a given day, time, and season. \n",
    "\n",
    "Producing reliable results would be useful for a variety of projects including:\n",
    "* congestion pricing\n",
    "* commuter routing\n",
    "* infrastructure planning\n",
    "* public transport planning\n",
    "\n"
   ]
  },
  {
   "cell_type": "markdown",
   "metadata": {},
   "source": [
    "## Hypothesis\n",
    "It is expected that the model will reflect the conventional wisdom that traffic is worst:\n",
    "* During conventional times on weekdays ('Peak Hour' 7am - 9am, 5pm - 7pm, on weekdays)\n",
    "\n",
    "Then to further hypothesise that traffic will deviate from these averages further when:\n",
    "* It is raining, cold, or windy\n",
    "* Petrol prices are lower\n",
    "* Public transport prices are high\n"
   ]
  },
  {
   "cell_type": "markdown",
   "metadata": {},
   "source": [
    "## Inputs\n",
    "* Traffic data from major arterial roads - provided by Roads and Maritime Services\n",
    "* Toll road inputs from government and private run roads - provided by Roads and Maritime Services and possibly Transurban\n",
    "* Weather (temperature, wind and precipitation) - provided by Bureau of Meteorology\n",
    "* Petrol pricing - from Office Fair Trading NSW\n",
    "\n"
   ]
  },
  {
   "cell_type": "markdown",
   "metadata": {},
   "source": [
    "## Success Metrics\n",
    "To predict within 95% the number of cars passing:\n",
    "* the Western Distributor RMS station and\n",
    "* Sydney Harbour Tunnel station\n",
    "* the M2 Hills Motorway station\n",
    "\n",
    "for the days following the running of the prediction. \n",
    "\n",
    "\n",
    "\n",
    "\n"
   ]
  },
  {
   "cell_type": "markdown",
   "metadata": {},
   "source": [
    "## Assumptions\n",
    "* The weather predicted by the Bureau of Meteorology needs to be accurate in order for the impact of weather to be correctly calculated\n",
    "* This would assume no extraneous events or acts of God (eg worker strikes, computer failure, earthquakes, blackout etc)\n",
    "\n",
    "\n"
   ]
  },
  {
   "cell_type": "markdown",
   "metadata": {},
   "source": [
    "## Risks and Limitations\n",
    "* The resolution of the different datasets may not match with enough overlap to produce an accurate model. eg the impact of the weather may only be seen at a very local level, but BOM only keeps data at a district level.\n",
    "* They traffic may not vary enough to make a predictor useful.\n",
    "* This may be too complex a task with given resources.\n",
    "\n",
    "\n"
   ]
  },
  {
   "cell_type": "markdown",
   "metadata": {},
   "source": [
    "## Acquired Datasets:\n",
    "* Fuelcheck - Petrol prices by month for NSW since 2014\n",
    "* Traffic data for the RMS stations by hour, by day, since 2006 - from RMS\n",
    "* Rainfall and temperature data for Sydney City by day for the last 4 years.\n"
   ]
  }
 ],
 "metadata": {
  "kernelspec": {
   "display_name": "Python 3",
   "language": "python",
   "name": "python3"
  },
  "language_info": {
   "codemirror_mode": {
    "name": "ipython",
    "version": 3
   },
   "file_extension": ".py",
   "mimetype": "text/x-python",
   "name": "python",
   "nbconvert_exporter": "python",
   "pygments_lexer": "ipython3",
   "version": "3.6.5"
  }
 },
 "nbformat": 4,
 "nbformat_minor": 2
}
